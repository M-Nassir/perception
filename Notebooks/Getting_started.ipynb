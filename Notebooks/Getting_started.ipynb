{
 "cells": [
  {
   "cell_type": "markdown",
   "id": "painted-norman",
   "metadata": {},
   "source": [
    "@author Nassir Mohammad: <Nassir.Mohammad@airbus.com>\n",
    "\n",
    "# Imports"
   ]
  },
  {
   "cell_type": "code",
   "execution_count": 2,
   "id": "posted-reserve",
   "metadata": {
    "ExecuteTime": {
     "end_time": "2021-08-17T11:23:10.068898Z",
     "start_time": "2021-08-17T11:23:10.066259Z"
    }
   },
   "outputs": [],
   "source": [
    "import sys\n",
    "\n",
    "# change path to where the PerceptionAlgorithm.py is located \n",
    "sys.path.append(\"/Users/.../perception\")"
   ]
  },
  {
   "cell_type": "code",
   "execution_count": 3,
   "id": "rural-combine",
   "metadata": {
    "ExecuteTime": {
     "end_time": "2021-08-17T11:23:11.606723Z",
     "start_time": "2021-08-17T11:23:11.596410Z"
    }
   },
   "outputs": [],
   "source": [
    "import numpy as np\n",
    "import pandas as pd\n",
    "\n",
    "import time\n",
    "\n",
    "# import visualisation \n",
    "import matplotlib.pyplot as plt\n",
    "import matplotlib.dates\n",
    "import seaborn as sns\n",
    "from IPython.display import display\n",
    "import matplotlib.dates as mdates\n",
    "\n",
    "import csv\n",
    "import os\n",
    "import h5py\n",
    "\n",
    "# import regex \n",
    "import glob\n",
    "import re\n",
    "\n",
    "# import math and science\n",
    "import math\n",
    "from math import exp, log\n",
    "from decimal import *\n",
    "import scipy.special as ss\n",
    "from scipy import stats\n",
    "from scipy.stats import kurtosis\n",
    "from scipy import stats\n",
    "from statsmodels import robust\n",
    "import scipy.io\n",
    "from scipy.io import loadmat\n",
    "\n",
    "# import machine learning metrics\n",
    "from sklearn.metrics import classification_report\n",
    "from sklearn import preprocessing\n",
    "from sklearn.preprocessing import StandardScaler\n",
    "\n",
    "# import utilities\n",
    "from itertools import product\n",
    "import itertools\n",
    "\n",
    "# Import models\n",
    "from pyod.models.hbos import HBOS\n",
    "from pyod.models.iforest import IForest\n",
    "from pyod.models.knn import KNN\n",
    "from pyod.models.lof import LOF\n",
    "from pyod.models.mcd import MCD\n",
    "from pyod.models.ocsvm import OCSVM\n",
    "from pyod.models.abod import ABOD\n",
    "from sklearn.cluster import DBSCAN\n",
    "\n",
    "# set options\n",
    "pd.options.display.max_columns = None\n",
    "pd.set_option('display.max_columns', 400)\n",
    "pd.options.mode.chained_assignment = None  # default='warn'\n",
    "\n",
    "#from sklearn.ensemble import IsolationForest\n",
    "from sklearn import preprocessing\n",
    "from sklearn.model_selection import train_test_split\n",
    "from pyod.models.iforest import IForest\n",
    "import datetime\n",
    "\n",
    "#from PerceptionAlgorithm import Perception\n",
    "from PerceptionAlgorithm import Perception"
   ]
  },
  {
   "cell_type": "markdown",
   "id": "strategic-alignment",
   "metadata": {},
   "source": [
    "# Functions"
   ]
  },
  {
   "cell_type": "markdown",
   "id": "introductory-median",
   "metadata": {},
   "source": [
    "## Evaluation functions"
   ]
  },
  {
   "cell_type": "code",
   "execution_count": 4,
   "id": "classical-henry",
   "metadata": {
    "ExecuteTime": {
     "end_time": "2021-08-17T11:23:14.703683Z",
     "start_time": "2021-08-17T11:23:14.683602Z"
    }
   },
   "outputs": [],
   "source": [
    "# code to plot scores and results i.e. AUC and precision/recall graphs\n",
    "\n",
    "from sklearn.metrics import precision_recall_curve, average_precision_score\n",
    "from sklearn.metrics import roc_curve, auc, roc_auc_score\n",
    "from sklearn.metrics import confusion_matrix, classification_report\n",
    "\n",
    "def anomalyScores(originalDF, reducedDF):\n",
    "    loss = np.sum((np.array(originalDF)-np.array(reducedDF))**2, axis=1)\n",
    "    loss = pd.Series(data=loss,index=originalDF.index)\n",
    "    loss = (loss-np.min(loss))/(np.max(loss)-np.min(loss))\n",
    "    return loss\n",
    "\n",
    "def plotResults(trueLabels, anomalyScores, returnPreds = False):\n",
    "    preds = pd.concat([trueLabels, anomalyScores], axis=1)\n",
    "    preds.columns = ['trueLabel', 'anomalyScore']\n",
    "    precision, recall, thresholds = \\\n",
    "        precision_recall_curve(preds['trueLabel'],preds['anomalyScore'])\n",
    "    average_precision = \\\n",
    "        average_precision_score(preds['trueLabel'],preds['anomalyScore'])\n",
    "\n",
    "    plt.step(recall, precision, color='k', alpha=0.7, where='post')\n",
    "    plt.fill_between(recall, precision, step='post', alpha=0.3, color='k')\n",
    "\n",
    "    plt.xlabel('Recall')\n",
    "    plt.ylabel('Precision')\n",
    "    plt.ylim([0.0, 1.05])\n",
    "    plt.xlim([0.0, 1.0])\n",
    "\n",
    "    plt.title('Precision-Recall curve: Average Precision = \\\n",
    "    {0:0.2f}'.format(average_precision))\n",
    "\n",
    "    fpr, tpr, thresholds = roc_curve(preds['trueLabel'], \\\n",
    "                                     preds['anomalyScore'])\n",
    "    areaUnderROC = auc(fpr, tpr)\n",
    "\n",
    "    plt.figure()\n",
    "    plt.plot(fpr, tpr, color='r', lw=2, label='ROC curve')\n",
    "    plt.plot([0, 1], [0, 1], color='k', lw=2, linestyle='--')\n",
    "    plt.xlim([0.0, 1.0])\n",
    "    plt.ylim([0.0, 1.05])\n",
    "    plt.xlabel('False Positive Rate')\n",
    "    plt.ylabel('True Positive Rate')\n",
    "    plt.title('Receiver operating characteristic: \\\n",
    "    Area under the curve = {0:0.2f}'.format(areaUnderROC))\n",
    "    plt.legend(loc=\"lower right\")\n",
    "    plt.show()\n",
    "\n",
    "    if returnPreds==True:\n",
    "        return preds\n",
    "    \n",
    "    # ensure classes= is in correct order\n",
    "def plot_confusion_matrix(cm, title, classes=['normal', 'abnormal'],\n",
    "                          cmap=plt.cm.Blues, save=False, saveas=\"MyFigure.png\"):\n",
    "    \n",
    "    # print Confusion matrix with blue gradient colours\n",
    "    \n",
    "    cm = cm.astype('float') / cm.sum(axis=1)[:, np.newaxis]\n",
    "    \n",
    "    plt.imshow(cm, interpolation='nearest', cmap=cmap)\n",
    "    plt.title(title)\n",
    "    plt.colorbar()\n",
    "    tick_marks = np.arange(len(classes))\n",
    "    plt.xticks(tick_marks, classes, rotation=90)\n",
    "    plt.yticks(tick_marks, classes)\n",
    "\n",
    "    fmt = '.1%'\n",
    "    thresh = cm.max() / 2.\n",
    "    for i, j in itertools.product(range(cm.shape[0]), range(cm.shape[1])):\n",
    "        plt.text(j, i, format(cm[i, j], fmt),\n",
    "                 horizontalalignment=\"center\",\n",
    "                 color=\"white\" if cm[i, j] > thresh else \"black\")\n",
    "\n",
    "    plt.tight_layout()\n",
    "    plt.ylabel('True label')\n",
    "    plt.xlabel('Predicted label')\n",
    "    \n",
    "    if save:\n",
    "        plt.savefig(saveas, dpi=100)"
   ]
  },
  {
   "cell_type": "code",
   "execution_count": 5,
   "id": "marine-hunger",
   "metadata": {
    "ExecuteTime": {
     "end_time": "2021-08-17T11:23:15.543143Z",
     "start_time": "2021-08-17T11:23:15.533909Z"
    }
   },
   "outputs": [],
   "source": [
    "def show_results(y_val, validation_labels, font_size, file_to_save, figure_title):\n",
    "    \n",
    "    X_val_anomalies = X_val[np.where(validation_labels==1)[0]]\n",
    "    X_val_normal = X_val[np.where(validation_labels==0)[0]]\n",
    "\n",
    "    fp = X_val[np.where((validation_labels == 1) & (y_val.T == 0))[1]]\n",
    "    fn = X_val[np.where((validation_labels == 0) & (y_val.T == 1))[1]]\n",
    "\n",
    "    for x in fp:\n",
    "        X_val_anomalies = np.delete(X_val_anomalies, np.where(X_val_anomalies == x), axis=0)\n",
    "\n",
    "    for x in fn:\n",
    "        X_val_normal = np.delete(X_val_normal, np.where(X_val_normal == x), axis=0)\n",
    "\n",
    "    plt.rcParams[\"font.size\"] = font_size\n",
    "\n",
    "    fig, ax = plt.subplots(figsize=(12,8))\n",
    "    ax = sns.scatterplot(X_val_anomalies[:,0], X_val_anomalies[:,1], color='darkorange', label='anomaly (true +ve)')\n",
    "    ax = sns.scatterplot(X_val_normal[:,0], X_val_normal[:,1], alpha=0.4, label='normal (true -ve)')\n",
    "    plt.legend();\n",
    "\n",
    "    ax = sns.scatterplot(fp[:,0], fp[:,1], color='purple', label='normal (false +ve)', marker='x')\n",
    "    ax = sns.scatterplot(fn[:,0], fn[:,1], color='black', label='anomaly (false -ve)', marker=',')\n",
    "\n",
    "    ax.set_title(figure_title, fontsize=18);\n",
    "    plt.legend();\n",
    "\n",
    "    print(classification_report(y_val, validation_labels, target_names=['normal', 'abnormal'],output_dict=False))\n",
    "\n",
    "    auc_score = roc_auc_score(y_val, validation_labels)\n",
    "    print('auc score: {}'.format(auc_score))\n",
    "\n",
    "    #plt.savefig(image_save_path + file_to_save);"
   ]
  },
  {
   "cell_type": "markdown",
   "id": "indonesian-cisco",
   "metadata": {},
   "source": [
    "# Tutorial examples"
   ]
  },
  {
   "cell_type": "markdown",
   "id": "flying-james",
   "metadata": {},
   "source": [
    "## Example 1: hypothetical dataset for outlier detection paper"
   ]
  },
  {
   "cell_type": "code",
   "execution_count": 6,
   "id": "waiting-adaptation",
   "metadata": {
    "ExecuteTime": {
     "end_time": "2021-08-17T11:23:17.727966Z",
     "start_time": "2021-08-17T11:23:17.559188Z"
    }
   },
   "outputs": [
    {
     "name": "stderr",
     "output_type": "stream",
     "text": [
      "/Users/nassirmohammad/anaconda3/envs/conda_env1/lib/python3.7/site-packages/seaborn/distributions.py:2557: FutureWarning: `distplot` is a deprecated function and will be removed in a future version. Please adapt your code to use either `displot` (a figure-level function with similar flexibility) or `histplot` (an axes-level function for histograms).\n",
      "  warnings.warn(msg, FutureWarning)\n"
     ]
    },
    {
     "data": {
      "image/png": "[encoded data removed]",
      "text/plain": [
       "<Figure size 864x432 with 1 Axes>"
      ]
     },
     "metadata": {
      "needs_background": "light"
     },
     "output_type": "display_data"
    }
   ],
   "source": [
    "boris_hypo_1 = np.array([2.1, 2.6, 2.4, 2.5, 2.3, 2.1, 2.3, 2.6, 8.2, 8.3]) # Boris dataset - hypothetical\n",
    "\n",
    "# seaborn histogram\n",
    "f, axes = plt.subplots(figsize=(12,6))\n",
    "sns.distplot(boris_hypo_1, hist=True, kde=False, rug=False,\n",
    "             bins=10, color = 'grey',ax=axes,\n",
    "             #hist_kws={'edgecolor':'black'}\n",
    "            );\n",
    "\n",
    "# Add labels\n",
    "#plt.title('Hypothetical dataset')\n",
    "plt.xlabel('Measurement')\n",
    "plt.ylabel('Frequency');\n",
    "\n",
    "axes.plot(boris_hypo_1, np.zeros_like(boris_hypo_1)+0.1, 'o', color='black');"
   ]
  },
  {
   "cell_type": "code",
   "execution_count": 7,
   "id": "falling-fields",
   "metadata": {
    "ExecuteTime": {
     "end_time": "2021-08-17T11:23:19.474375Z",
     "start_time": "2021-08-17T11:23:19.469097Z"
    }
   },
   "outputs": [
    {
     "name": "stdout",
     "output_type": "stream",
     "text": [
      "anomaly labels: [0 0 0 0 0 0 0 0 1 1]\n",
      "anomaly scores: [-0.06315493 -0.05209973 -0.01771219 -0.03806616 -0.03806616 -0.06315493\n",
      " -0.03806616 -0.05209973  0.34267118  0.35885167]\n",
      "anomalies: [8.2 8.3]\n"
     ]
    }
   ],
   "source": [
    "# run anomaly detection\n",
    "\n",
    "clf = Perception()\n",
    "clf.fit(boris_hypo_1)\n",
    "clf.predict(boris_hypo_1)\n",
    "\n",
    "# print anomalies by position: 0 is normal, 1 is anomalous\n",
    "print(\"anomaly labels: {}\".format(clf.labels_))\n",
    "\n",
    "# print associated anomaly scores: all scores > 0 are anomalous. \n",
    "# The greater the score, the more anomalous is the observation.\n",
    "print(\"anomaly scores: {}\".format(clf.scores_))\n",
    "\n",
    "# print the anomaly values\n",
    "print(\"anomalies: {}\".format(clf.anomalies_))"
   ]
  },
  {
   "cell_type": "markdown",
   "id": "worldwide-thinking",
   "metadata": {},
   "source": [
    "## Example 2: Galton heights"
   ]
  },
  {
   "cell_type": "code",
   "execution_count": 8,
   "id": "second-delta",
   "metadata": {
    "ExecuteTime": {
     "end_time": "2021-08-17T11:23:21.584289Z",
     "start_time": "2021-08-17T11:23:21.428462Z"
    }
   },
   "outputs": [
    {
     "name": "stderr",
     "output_type": "stream",
     "text": [
      "/Users/nassirmohammad/anaconda3/envs/conda_env1/lib/python3.7/site-packages/seaborn/distributions.py:2557: FutureWarning: `distplot` is a deprecated function and will be removed in a future version. Please adapt your code to use either `displot` (a figure-level function with similar flexibility) or `histplot` (an axes-level function for histograms).\n",
      "  warnings.warn(msg, FutureWarning)\n"
     ]
    },
    {
     "data": {
      "image/png": "[encoded data removed]",
      "text/plain": [
       "<Figure size 864x432 with 1 Axes>"
      ]
     },
     "metadata": {
      "needs_background": "light"
     },
     "output_type": "display_data"
    }
   ],
   "source": [
    "# ** modify file path **\n",
    "galton_height_path = \"/Users/.../data/Galton.txt\"\n",
    "\n",
    "g_df = pd.read_csv(galton_height_path, sep='\\t', lineterminator='\\r')\n",
    "\n",
    "galton_heights = g_df['Height'].values\n",
    "\n",
    "# seaborn histogram\n",
    "f, axes = plt.subplots(figsize=(12,6))\n",
    "sns.distplot(galton_heights, hist=True, kde=False, \n",
    "             bins=10, color = 'grey',ax=axes,\n",
    "             hist_kws={'edgecolor':'black'});\n",
    "\n",
    "# # Add labels\n",
    "#plt.title('Galton height dataset')\n",
    "plt.xlabel('Measurement')\n",
    "plt.ylabel('Frequency');\n",
    "\n",
    "axes.plot(galton_heights, np.zeros_like(galton_heights)+2.8, 'o', color='black');"
   ]
  },
  {
   "cell_type": "code",
   "execution_count": 9,
   "id": "violent-cleaners",
   "metadata": {
    "ExecuteTime": {
     "end_time": "2021-08-17T11:23:22.767441Z",
     "start_time": "2021-08-17T11:23:22.757683Z"
    },
    "scrolled": true
   },
   "outputs": [
    {
     "name": "stdout",
     "output_type": "stream",
     "text": [
      "anomalies: [56.  57.  57.  57.5 58.  75.  75.  75.  75.  76.  76.5 78.  79. ]\n"
     ]
    }
   ],
   "source": [
    "# run anomaly detection\n",
    "\n",
    "clf = Perception()\n",
    "clf.fit(galton_heights)\n",
    "clf.predict(galton_heights)\n",
    "\n",
    "# print anomalies by position: 0 is normal, 1 is anomalous\n",
    "#print(\"anomaly labels: {}\".format(clf.labels_))\n",
    "\n",
    "# print associated anomaly scores: all scores > 0 are anomalous. \n",
    "# The greater the score, the more anomalous is the observation.\n",
    "#print(\"anomaly scores: {}\".format(clf.scores_))\n",
    "\n",
    "# print the anomaly values\n",
    "print(\"anomalies: {}\".format(clf.anomalies_))"
   ]
  },
  {
   "cell_type": "markdown",
   "id": "oriental-feature",
   "metadata": {},
   "source": [
    "## Example 3: ex8data1 "
   ]
  },
  {
   "cell_type": "code",
   "execution_count": 10,
   "id": "pleasant-aquatic",
   "metadata": {
    "ExecuteTime": {
     "end_time": "2021-08-17T11:23:23.911114Z",
     "start_time": "2021-08-17T11:23:23.905317Z"
    }
   },
   "outputs": [
    {
     "name": "stdout",
     "output_type": "stream",
     "text": [
      "__header__\n",
      "__version__\n",
      "__globals__\n",
      "X\n",
      "Xval\n",
      "yval\n",
      "The shape of X is: (307, 2)\n",
      "The shape of X_val is: (307, 2)\n",
      "The shape of y is: 9\n"
     ]
    }
   ],
   "source": [
    "# ** modify file path **\n",
    "path = r\"/Users/.../data/ex8data1.mat\"\n",
    "\n",
    "random_state = 42\n",
    "\n",
    "data = loadmat(path)\n",
    "X = data['X']\n",
    "X_val = data['Xval']\n",
    "y_val = data['yval']\n",
    "\n",
    "# show the headers\n",
    "for key, val in data.items():\n",
    "    print(key)\n",
    "    \n",
    "print(\"The shape of X is: {}\".format(X.shape))\n",
    "print(\"The shape of X_val is: {}\".format(X_val.shape))\n",
    "print(\"The shape of y is: {}\".format(y_val.sum()))"
   ]
  },
  {
   "cell_type": "code",
   "execution_count": 11,
   "id": "shared-theater",
   "metadata": {
    "ExecuteTime": {
     "end_time": "2021-08-17T11:23:36.179135Z",
     "start_time": "2021-08-17T11:23:35.961176Z"
    }
   },
   "outputs": [
    {
     "name": "stderr",
     "output_type": "stream",
     "text": [
      "/Users/nassirmohammad/anaconda3/envs/conda_env1/lib/python3.7/site-packages/seaborn/_decorators.py:43: FutureWarning: Pass the following variables as keyword args: x, y. From version 0.12, the only valid positional argument will be `data`, and passing other arguments without an explicit keyword will result in an error or misinterpretation.\n",
      "  FutureWarning\n",
      "/Users/nassirmohammad/anaconda3/envs/conda_env1/lib/python3.7/site-packages/seaborn/_decorators.py:43: FutureWarning: Pass the following variables as keyword args: x, y. From version 0.12, the only valid positional argument will be `data`, and passing other arguments without an explicit keyword will result in an error or misinterpretation.\n",
      "  FutureWarning\n"
     ]
    },
    {
     "data": {
      "image/png": "[encoded data removed]",
      "text/plain": [
       "<Figure size 864x576 with 1 Axes>"
      ]
     },
     "metadata": {
      "needs_background": "light"
     },
     "output_type": "display_data"
    }
   ],
   "source": [
    "X_val_anomalies = X_val[np.where(y_val==1)[0]]\n",
    "X_val_normal = X_val[np.where(y_val==0)[0]]\n",
    "\n",
    "fig, ax = plt.subplots(figsize=(12,8))\n",
    "ax = sns.scatterplot(X_val_normal[:,0], X_val_normal[:,1], alpha=0.6)\n",
    "ax = sns.scatterplot(X_val_anomalies[:,0], X_val_anomalies[:,1], color='darkorange', alpha=1)\n",
    "ax.set_title(\"Labeled validation data: labeled\");"
   ]
  },
  {
   "cell_type": "markdown",
   "id": "czech-triumph",
   "metadata": {},
   "source": [
    "### MCD (elliptic envelope) algorithm"
   ]
  },
  {
   "cell_type": "code",
   "execution_count": 12,
   "id": "boring-aquarium",
   "metadata": {
    "ExecuteTime": {
     "end_time": "2021-08-17T11:23:37.482015Z",
     "start_time": "2021-08-17T11:23:37.212511Z"
    }
   },
   "outputs": [
    {
     "name": "stdout",
     "output_type": "stream",
     "text": [
      "              precision    recall  f1-score   support\n",
      "\n",
      "      normal       0.99      0.92      0.95       298\n",
      "    abnormal       0.23      0.78      0.35         9\n",
      "\n",
      "    accuracy                           0.92       307\n",
      "   macro avg       0.61      0.85      0.65       307\n",
      "weighted avg       0.97      0.92      0.94       307\n",
      "\n",
      "auc score: 0.84862043251305\n"
     ]
    },
    {
     "name": "stderr",
     "output_type": "stream",
     "text": [
      "/Users/nassirmohammad/anaconda3/envs/conda_env1/lib/python3.7/site-packages/seaborn/_decorators.py:43: FutureWarning: Pass the following variables as keyword args: x, y. From version 0.12, the only valid positional argument will be `data`, and passing other arguments without an explicit keyword will result in an error or misinterpretation.\n",
      "  FutureWarning\n",
      "/Users/nassirmohammad/anaconda3/envs/conda_env1/lib/python3.7/site-packages/seaborn/_decorators.py:43: FutureWarning: Pass the following variables as keyword args: x, y. From version 0.12, the only valid positional argument will be `data`, and passing other arguments without an explicit keyword will result in an error or misinterpretation.\n",
      "  FutureWarning\n",
      "/Users/nassirmohammad/anaconda3/envs/conda_env1/lib/python3.7/site-packages/seaborn/_decorators.py:43: FutureWarning: Pass the following variables as keyword args: x, y. From version 0.12, the only valid positional argument will be `data`, and passing other arguments without an explicit keyword will result in an error or misinterpretation.\n",
      "  FutureWarning\n",
      "/Users/nassirmohammad/anaconda3/envs/conda_env1/lib/python3.7/site-packages/seaborn/_decorators.py:43: FutureWarning: Pass the following variables as keyword args: x, y. From version 0.12, the only valid positional argument will be `data`, and passing other arguments without an explicit keyword will result in an error or misinterpretation.\n",
      "  FutureWarning\n"
     ]
    },
    {
     "data": {
      "image/png": "[encoded data removed]",
      "text/plain": [
       "<Figure size 864x576 with 1 Axes>"
      ]
     },
     "metadata": {
      "needs_background": "light"
     },
     "output_type": "display_data"
    }
   ],
   "source": [
    "# apply MCD anomaly detector and show results\n",
    "clf_mcd = MCD()\n",
    "\n",
    "sc = StandardScaler()\n",
    "sc.fit(X_val)\n",
    "X_val = sc.transform(X_val)\n",
    "\n",
    "# prediction\n",
    "clf_mcd.fit(X_val)\n",
    "validation_labels = clf_mcd.predict(X_val)\n",
    "    \n",
    "show_results(y_val, validation_labels, font_size=\"12\", \n",
    "             file_to_save='ex8data1_validation_mcd.png',\n",
    "            figure_title=\"\") #MCD model results (validation data only)\n",
    "\n"
   ]
  },
  {
   "cell_type": "markdown",
   "id": "military-ethernet",
   "metadata": {},
   "source": [
    "### Perception "
   ]
  },
  {
   "cell_type": "code",
   "execution_count": 13,
   "id": "robust-wisconsin",
   "metadata": {
    "ExecuteTime": {
     "end_time": "2021-08-17T11:23:39.415097Z",
     "start_time": "2021-08-17T11:23:39.171794Z"
    }
   },
   "outputs": [
    {
     "name": "stdout",
     "output_type": "stream",
     "text": [
      "              precision    recall  f1-score   support\n",
      "\n",
      "      normal       0.99      0.99      0.99       298\n",
      "    abnormal       0.64      0.78      0.70         9\n",
      "\n",
      "    accuracy                           0.98       307\n",
      "   macro avg       0.81      0.88      0.84       307\n",
      "weighted avg       0.98      0.98      0.98       307\n",
      "\n",
      "auc score: 0.8821774794929157\n"
     ]
    },
    {
     "name": "stderr",
     "output_type": "stream",
     "text": [
      "/Users/nassirmohammad/anaconda3/envs/conda_env1/lib/python3.7/site-packages/seaborn/_decorators.py:43: FutureWarning: Pass the following variables as keyword args: x, y. From version 0.12, the only valid positional argument will be `data`, and passing other arguments without an explicit keyword will result in an error or misinterpretation.\n",
      "  FutureWarning\n",
      "/Users/nassirmohammad/anaconda3/envs/conda_env1/lib/python3.7/site-packages/seaborn/_decorators.py:43: FutureWarning: Pass the following variables as keyword args: x, y. From version 0.12, the only valid positional argument will be `data`, and passing other arguments without an explicit keyword will result in an error or misinterpretation.\n",
      "  FutureWarning\n",
      "/Users/nassirmohammad/anaconda3/envs/conda_env1/lib/python3.7/site-packages/seaborn/_decorators.py:43: FutureWarning: Pass the following variables as keyword args: x, y. From version 0.12, the only valid positional argument will be `data`, and passing other arguments without an explicit keyword will result in an error or misinterpretation.\n",
      "  FutureWarning\n",
      "/Users/nassirmohammad/anaconda3/envs/conda_env1/lib/python3.7/site-packages/seaborn/_decorators.py:43: FutureWarning: Pass the following variables as keyword args: x, y. From version 0.12, the only valid positional argument will be `data`, and passing other arguments without an explicit keyword will result in an error or misinterpretation.\n",
      "  FutureWarning\n"
     ]
    },
    {
     "data": {
      "image/png": "[encoded data removed]",
      "text/plain": [
       "<Figure size 864x576 with 1 Axes>"
      ]
     },
     "metadata": {
      "needs_background": "light"
     },
     "output_type": "display_data"
    }
   ],
   "source": [
    "sc = StandardScaler()\n",
    "sc.fit(X_val)\n",
    "X_val = sc.transform(X_val)\n",
    "\n",
    "clf_our = Perception()\n",
    "clf_our.fit(X_val)\n",
    "validation_labels = clf_our.predict(X_val)\n",
    "\n",
    "validation_labels = clf_our.labels_\n",
    "\n",
    "show_results(y_val, validation_labels, font_size=\"12\", \n",
    "             file_to_save='ex8data1_validation.png',\n",
    "            figure_title=\"\")"
   ]
  },
  {
   "cell_type": "markdown",
   "id": "ignored-corner",
   "metadata": {},
   "source": [
    "## Example 4 "
   ]
  },
  {
   "cell_type": "code",
   "execution_count": 14,
   "id": "communist-tuesday",
   "metadata": {
    "ExecuteTime": {
     "end_time": "2021-08-17T11:23:41.520972Z",
     "start_time": "2021-08-17T11:23:41.511067Z"
    }
   },
   "outputs": [
    {
     "name": "stdout",
     "output_type": "stream",
     "text": [
      "(1000, 11) (100, 11) (100, 1)\n",
      "__header__\n",
      "__version__\n",
      "__globals__\n",
      "X\n",
      "Xval\n",
      "yval\n",
      "The shape of X is: (1000, 11)\n",
      "The shape of X_val is: (100, 11)\n",
      "The shape of y is: 10\n"
     ]
    }
   ],
   "source": [
    "# ** modify file path **\n",
    "path = r\"/Users/.../data/ex8data2.mat\"\n",
    "random_state = 42\n",
    "\n",
    "data = loadmat(path)\n",
    "X2 = data['X']\n",
    "X2_val = data['Xval']\n",
    "y2_val = data['yval']\n",
    "\n",
    "print(X2.shape, X2_val.shape, y2_val.shape)\n",
    "\n",
    "# show the headers\n",
    "for key, val in data.items():\n",
    "    print(key)\n",
    "    \n",
    "print(\"The shape of X is: {}\".format(X2.shape))\n",
    "print(\"The shape of X_val is: {}\".format(X2_val.shape))\n",
    "print(\"The shape of y is: {}\".format(y2_val.sum()))"
   ]
  },
  {
   "cell_type": "code",
   "execution_count": 15,
   "id": "small-lancaster",
   "metadata": {
    "ExecuteTime": {
     "end_time": "2021-08-17T11:23:42.381773Z",
     "start_time": "2021-08-17T11:23:42.364923Z"
    }
   },
   "outputs": [
    {
     "name": "stdout",
     "output_type": "stream",
     "text": [
      "              precision    recall  f1-score   support\n",
      "\n",
      "      normal       0.96      0.98      0.97        90\n",
      "    abnormal       0.75      0.60      0.67        10\n",
      "\n",
      "    accuracy                           0.94       100\n",
      "   macro avg       0.85      0.79      0.82       100\n",
      "weighted avg       0.94      0.94      0.94       100\n",
      "\n",
      "auc score: 0.788888888888889\n"
     ]
    }
   ],
   "source": [
    "from IPython.core.debugger import set_trace\n",
    "from sklearn.preprocessing import RobustScaler\n",
    "\n",
    "random_state = 42\n",
    "\n",
    "data = loadmat(path)\n",
    "X2 = data['X']\n",
    "X2_val = data['Xval']\n",
    "y2_val = data['yval']\n",
    "\n",
    "sc = StandardScaler()\n",
    "sc.fit(X2)\n",
    "X2 = sc.transform(X2)\n",
    "X2_val = sc.transform(X2_val)\n",
    "\n",
    "# build, fit and predict model\n",
    "clf_our = Perception()\n",
    "clf_our.fit(X2)\n",
    "clf_our.predict(X2_val)\n",
    "\n",
    "validation_labels = clf_our.labels_\n",
    "\n",
    "print(classification_report(y2_val, validation_labels, target_names=['normal', 'abnormal'],output_dict=False))\n",
    "\n",
    "auc_score = roc_auc_score(y2_val, validation_labels)\n",
    "print('auc score: {}'.format(auc_score))"
   ]
  }
 ],
 "metadata": {
  "kernelspec": {
   "display_name": "Python [conda env:conda_env1] *",
   "language": "python",
   "name": "conda-env-conda_env1-py"
  },
  "language_info": {
   "codemirror_mode": {
    "name": "ipython",
    "version": 3
   },
   "file_extension": ".py",
   "mimetype": "text/x-python",
   "name": "python",
   "nbconvert_exporter": "python",
   "pygments_lexer": "ipython3",
   "version": "3.7.3"
  },
  "toc": {
   "base_numbering": 1,
   "nav_menu": {},
   "number_sections": true,
   "sideBar": true,
   "skip_h1_title": false,
   "title_cell": "Table of Contents",
   "title_sidebar": "Contents",
   "toc_cell": false,
   "toc_position": {
    "height": "calc(100% - 180px)",
    "left": "10px",
    "top": "150px",
    "width": "298.0842590332031px"
   },
   "toc_section_display": true,
   "toc_window_display": true
  },
  "varInspector": {
   "cols": {
    "lenName": 16,
    "lenType": 16,
    "lenVar": 40
   },
   "kernels_config": {
    "python": {
     "delete_cmd_postfix": "",
     "delete_cmd_prefix": "del ",
     "library": "var_list.py",
     "varRefreshCmd": "print(var_dic_list())"
    },
    "r": {
     "delete_cmd_postfix": ") ",
     "delete_cmd_prefix": "rm(",
     "library": "var_list.r",
     "varRefreshCmd": "cat(var_dic_list()) "
    }
   },
   "types_to_exclude": [
    "module",
    "function",
    "builtin_function_or_method",
    "instance",
    "_Feature"
   ],
   "window_display": false
  }
 },
 "nbformat": 4,
 "nbformat_minor": 5
}
