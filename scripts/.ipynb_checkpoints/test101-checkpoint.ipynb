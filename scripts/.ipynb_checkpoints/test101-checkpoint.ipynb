{
 "cells": [
  {
   "cell_type": "code",
   "execution_count": null,
   "metadata": {
    "collapsed": true
   },
   "outputs": [],
   "source": [
    "# This example illustrates a hypothetical small dataset taken from Boris book.\n",
    "# It illustrates how the Z-score is not always a good outlier detector for small\n",
    "# datasets as it can fail to find any anomalies. However, we note here that results\n",
    "# can different for small handcrafted or real datasets when compared to large real\n",
    "# datasets. Indeed we found the Z-score method to perform comparitvely well against\n",
    "# the other statistical methods which perform better on the small datasets.\n",
    "# Thus although the failure of the Z-score method has been widely stated in literature\n",
    "# and general discussions, particualrly for small datasets, we note that all the methods\n",
    "# can be shown to fail in sutiably crafted datasets. Yet, the Z-score method actually\n",
    "# peformed better on real datasets."
   ]
  },
  {
   "cell_type": "code",
   "execution_count": null,
   "metadata": {},
   "outputs": [],
   "source": []
  },
  {
   "cell_type": "code",
   "execution_count": null,
   "metadata": {},
   "outputs": [],
   "source": [
    "x=5\n",
    "print(x)"
   ]
  },
  {
   "cell_type": "code",
   "execution_count": null,
   "metadata": {},
   "outputs": [],
   "source": []
  }
 ],
 "metadata": {
  "kernelspec": {
   "display_name": "Python [conda env:conda_env1] *",
   "language": "python",
   "name": "conda-env-conda_env1-py"
  },
  "language_info": {
   "codemirror_mode": {
    "name": "ipython",
    "version": 3
   },
   "file_extension": ".py",
   "mimetype": "text/x-python",
   "name": "python",
   "nbconvert_exporter": "python",
   "pygments_lexer": "ipython3",
   "version": "3.7.3"
  },
  "toc": {
   "base_numbering": 1,
   "nav_menu": {},
   "number_sections": true,
   "sideBar": true,
   "skip_h1_title": false,
   "title_cell": "Table of Contents",
   "title_sidebar": "Contents",
   "toc_cell": false,
   "toc_position": {},
   "toc_section_display": true,
   "toc_window_display": false
  }
 },
 "nbformat": 4,
 "nbformat_minor": 1
}
